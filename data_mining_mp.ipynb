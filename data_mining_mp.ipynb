{
 "cells": [
  {
   "cell_type": "code",
   "execution_count": 23,
   "metadata": {},
   "outputs": [],
   "source": [
    "import pickle\n",
    "import functools as f\n",
    "from pymatgen import MPRester\n",
    "from copy import deepcopy\n",
    "import pandas as pd\n",
    "import pymatgen as mg\n",
    "import pymatgen\n",
    "from pymatgen.analysis.structure_matcher import StructureMatcher\n",
    "from pymatgen.symmetry.analyzer import SpacegroupAnalyzer\n",
    "from pymatgen.core.structure import SiteCollection\n",
    "from pymatgen.core.bonds import CovalentBond, get_bond_length\n",
    "from pymatgen.util.coord import get_angle, all_distances, lattice_points_in_supercell\n",
    "import os\n",
    "import itertools \n",
    "\n",
    "API_KEY = \"oq6bIVf0EQMI6dun\"\n",
    "mp = MPRester(API_KEY)\n",
    "save_path = '/Users/dragonlook/Dropbox (MIT)/MI/codes/MP_data/'\n",
    "\n",
    "mag_list = pd.read_excel('/Users/dragonlook/Dropbox (MIT)/MI/codes/list/thermal_magnon_list.xlsx')\n",
    "samples = list(mag_list.Formula.dropna())\n",
    "mag_elements = list(mag_list.mag_element.dropna())\n",
    "basic_properties = [\"energy\", \"energy_per_atom\", \"volume\",\n",
    "                                \"formation_energy_per_atom\", \"nsites\",\n",
    "                                \"unit_cell_formula\", \"pretty_formula\",\n",
    "                                \"is_hubbard\", \"elements\", \"nelements\",\n",
    "                                \"e_above_hull\", \"hubbards\", \"is_compatible\",\n",
    "                                \"spacegroup\", \"task_ids\", \"band_gap\", \"density\",\n",
    "                                \"total_magnetization\",\n",
    "                                \"material_id\", \"oxide_type\", \"tags\", \"elasticity\"]"
   ]
  },
  {
   "cell_type": "code",
   "execution_count": 4,
   "metadata": {},
   "outputs": [],
   "source": [
    "def get_data(compound_name):\n",
    "    basic_properties = [\"energy\", \"energy_per_atom\", \"volume\",\n",
    "                                \"formation_energy_per_atom\", \"nsites\",\n",
    "                                \"unit_cell_formula\", \"pretty_formula\",\n",
    "                                \"is_hubbard\", \"elements\", \"nelements\",\n",
    "                                \"e_above_hull\", \"hubbards\", \"is_compatible\",\n",
    "                                \"spacegroup\", \"task_ids\", \"band_gap\", \"density\",\n",
    "                                \"total_magnetization\",\n",
    "                                \"material_id\", \"oxide_type\", \"tags\", \"elasticity\"]\n",
    "\n",
    "    all_properties = basic_properties\n",
    "\n",
    "    data = mp.query(criteria=compound_name, properties=all_properties)\n",
    "    \n",
    "    return data\n"
   ]
  },
  {
   "cell_type": "code",
   "execution_count": 15,
   "metadata": {},
   "outputs": [],
   "source": [
    "# search copper oxide in MP\n",
    "# criteria = {\"elements\": {\"$all\": [\"Cu\",'O']},\"nelements\": {\"$lte\": 3},  \"band_gap\": {\"$exists\": True}}\n",
    "# data = get_data(criteria)\n",
    "# df = pd.DataFrame(data)\n",
    "# df.to_csv('/Users/dragonlook/Dropbox (MIT)/MI/codes/list/copper_oxide_three.csv')\n",
    "# df.to_csv('/Users/dragonlook/Dropbox (MIT)/MI/codes/list/copper_oxide_three.csv', usecols= ['pretty_formula'])\n"
   ]
  },
  {
   "cell_type": "code",
   "execution_count": 47,
   "metadata": {},
   "outputs": [],
   "source": [
    "# # pick up copper oxide\n",
    "# copper_oxide_from_list = []\n",
    "# for name, ref in zip(samples, mag_elements):\n",
    "#     if ref == 'Cu':\n",
    "#         copper_oxide_from_list.append(name)\n",
    "                                                                                                        \n",
    "\n",
    "# targets = pd.read_excel('/Users/dragonlook/Dropbox (MIT)/MI/codes/list/thermal_magnon_list.xlsx',usecols=['Formula','mag_element','target'])\n",
    "# targets = targets.set_index('Formula')\n",
    "# targets = targets[targets['mag_element'] == 'Cu']\n",
    "# targets.to_csv('/Users/dragonlook/Dropbox (MIT)/MI/codes/list/copper_oxide_label.csv')"
   ]
  },
  {
   "cell_type": "code",
   "execution_count": 3,
   "metadata": {},
   "outputs": [],
   "source": [
    "for compound_name in samples:\n",
    "    compound_name = compound_name.strip()\n",
    "    \n",
    "    data = get_data(compound_name)\n",
    "    df = pd.DataFrame()\n",
    "    for fts in basic_properties:\n",
    "        temp = []\n",
    "        for dat in data:\n",
    "            temp.append(dat[fts])\n",
    "        df[fts] = temp\n",
    "\n",
    "    df.to_csv(save_path + compound_name + '.csv')\n"
   ]
  },
  {
   "cell_type": "code",
   "execution_count": null,
   "metadata": {},
   "outputs": [],
   "source": []
  },
  {
   "cell_type": "code",
   "execution_count": 4,
   "metadata": {},
   "outputs": [],
   "source": [
    "sample_inds = len(samples)\n",
    "for sample_ind in range(sample_inds):\n",
    "    compound = samples[sample_ind].strip()\n",
    "    try:\n",
    "        data_st_s = mp.get_structures(compound)\n",
    "        new_path = '/Users/dragonlook/Dropbox (MIT)/MI/codes/MP_data/'+str(compound)\n",
    "        os.makedirs(new_path,exist_ok=True)\n",
    "        mag_element = pymatgen.core.composition.Element(mag_elements[sample_ind])\n",
    "        cout = 0\n",
    "        for data_st in data_st_s: # list of MP structure\n",
    "            \n",
    "            # where id mag sites\n",
    "            temp_cout = -1\n",
    "            list_of_mag_site = []\n",
    "            for site in data_st: # list of sites\n",
    "                temp_cout += 1\n",
    "                if site.specie == mag_element: #only pick up magnetic components\n",
    "                    list_of_mag_site.append(temp_cout)\n",
    "                    \n",
    "            bond_length_list = []\n",
    "            bond_angle_list = []\n",
    "            for mag_site_ind in list_of_mag_site:\n",
    "                # neighbors of mag sites\n",
    "                neighors = pymatgen.analysis.local_env.BrunnerNN_real()\n",
    "                nn_B = neighors.get_nn_info(data_st, mag_site_ind)\n",
    "                if len(nn_B) == 1 or len(nn_B) == 0:\n",
    "                    print('CANNOT FIND ENOUGH NEIGHBORS')\n",
    "                    continue\n",
    "                    \n",
    "                else:\n",
    "                    # generate bond lengths\n",
    "                    nn_coords = [i['site'].coords for i in nn_B]\n",
    "                    bond_length_list.append(all_distances([data_st[mag_site_ind].coords],nn_coords)[0])\n",
    "                    for neighoring_two_sites in itertools.combinations(nn_coords,2):\n",
    "                        angle = get_angle(neighoring_two_sites[0] - data_st[mag_site_ind].coords, neighoring_two_sites[1] - data_st[mag_site_ind].coords)\n",
    "                        bond_angle_list.append(angle)\n",
    "            df_angle = pd.DataFrame()\n",
    "            df_angle['angle'] = bond_angle_list\n",
    "            df_length = pd.DataFrame()\n",
    "            df_length['length'] = bond_length_list\n",
    "            df_angle.to_csv(new_path + '/' + compound + '_angle_' + str(cout) + '.csv')\n",
    "            df_length.to_csv(new_path + '/' + compound + '_length_' + str(cout) + '.csv')\n",
    "            \n",
    "            cout += 1\n",
    "            \n",
    "                \n",
    "    except Exception as e:\n",
    "        print(e)\n",
    "        print(compound)\n",
    "        print('error: might be no data stored in MP')"
   ]
  },
  {
   "cell_type": "code",
   "execution_count": null,
   "metadata": {},
   "outputs": [],
   "source": []
  },
  {
   "cell_type": "code",
   "execution_count": null,
   "metadata": {},
   "outputs": [],
   "source": []
  }
 ],
 "metadata": {
  "kernelspec": {
   "display_name": "Python 3",
   "language": "python",
   "name": "python3"
  },
  "language_info": {
   "codemirror_mode": {
    "name": "ipython",
    "version": 3
   },
   "file_extension": ".py",
   "mimetype": "text/x-python",
   "name": "python",
   "nbconvert_exporter": "python",
   "pygments_lexer": "ipython3",
   "version": "3.7.4"
  }
 },
 "nbformat": 4,
 "nbformat_minor": 2
}
