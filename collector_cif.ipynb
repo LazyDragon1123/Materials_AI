{
 "cells": [
  {
   "cell_type": "code",
   "execution_count": 1,
   "metadata": {},
   "outputs": [],
   "source": [
    "import pickle\n",
    "import functools as f\n",
    "from pymatgen import MPRester\n",
    "from copy import deepcopy\n",
    "import pandas as pd\n",
    "import pymatgen as mg\n",
    "import pymatgen\n",
    "from pymatgen.analysis.structure_matcher import StructureMatcher\n",
    "from pymatgen.symmetry.analyzer import SpacegroupAnalyzer\n",
    "from pymatgen.core.structure import SiteCollection\n",
    "from pymatgen.core.bonds import CovalentBond, get_bond_length\n",
    "from pymatgen.util.coord import get_angle, all_distances, lattice_points_in_supercell\n",
    "import os\n",
    "import itertools \n",
    "\n",
    "API_KEY = \"oq6bIVf0EQMI6dun\"\n",
    "mp = MPRester(API_KEY)\n",
    "save_path = '/Users/dragonlook/Dropbox (MIT)/MI/codes/MP_data/'\n",
    "mag_list = pd.read_excel('/Users/dragonlook/Dropbox (MIT)/MI/codes/list/thermal_magnon_list.xlsx')\n",
    "samples = list(mag_list.Formula.dropna())\n",
    "mag_elements = list(mag_list.mag_element.dropna())"
   ]
  },
  {
   "cell_type": "code",
   "execution_count": 30,
   "metadata": {},
   "outputs": [],
   "source": [
    "for compound_name in samples:\n",
    "    try:\n",
    "        compound_name = compound_name.strip()\n",
    "        data = mp.get_data(compound_name)\n",
    "        filename = './CIFs/' + compound_name\n",
    "        os.makedirs(filename,exist_ok=True)\n",
    "        cout = 0\n",
    "        for d in data:\n",
    "            fname = filename + '/' + compound_name + '_'+ str(cout) + '.cif'\n",
    "            cout += 1\n",
    "            with open(fname,'w') as f:\n",
    "                f.write(d['cif']) \n",
    "    except:\n",
    "        continue"
   ]
  },
  {
   "cell_type": "code",
   "execution_count": null,
   "metadata": {},
   "outputs": [],
   "source": []
  }
 ],
 "metadata": {
  "kernelspec": {
   "display_name": "Python 3",
   "language": "python",
   "name": "python3"
  },
  "language_info": {
   "codemirror_mode": {
    "name": "ipython",
    "version": 3
   },
   "file_extension": ".py",
   "mimetype": "text/x-python",
   "name": "python",
   "nbconvert_exporter": "python",
   "pygments_lexer": "ipython3",
   "version": "3.7.4"
  }
 },
 "nbformat": 4,
 "nbformat_minor": 2
}
