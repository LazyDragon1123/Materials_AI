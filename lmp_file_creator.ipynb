{
 "cells": [
  {
   "cell_type": "code",
   "execution_count": 45,
   "metadata": {},
   "outputs": [],
   "source": [
    "import pandas as pd\n",
    "import numpy as np\n",
    "import os\n",
    "import shutil\n",
    "\n",
    "# file_path_cif = '/Users/dragonlook/Dropbox (MIT)/MI/codes/CIFs/'\n",
    "# file_path_list = '/Users/dragonlook/Dropbox (MIT)/MI/codes/list/thermal_magnon_list.xlsx'\n",
    "file_path_cif = '/home/ryuken/Dropbox (MIT)/MI/codes/CIFs_copy/'\n",
    "file_path_list = '/home/ryuken/Dropbox (MIT)/MI/codes/list/thermal_magnon_list.xlsx'\n",
    "\n",
    "\n",
    "mag_list = pd.read_excel(file_path_list)\n",
    "samples = list(mag_list.Formula.dropna())\n",
    "mat_names = []\n",
    "for compound_name in samples:\n",
    "    mat_names.append(compound_name.strip())"
   ]
  },
  {
   "cell_type": "code",
   "execution_count": 55,
   "metadata": {},
   "outputs": [
    {
     "name": "stdout",
     "output_type": "stream",
     "text": [
      "CsMnCl3.2H2O\n",
      "CoCl2.6H2O\n"
     ]
    }
   ],
   "source": [
    "for mat_name in mat_names:\n",
    "    try:\n",
    "\n",
    "        each_file_path = file_path_cif + mat_name\n",
    "        relative_path = './CIFs_copy/' + mat_name + '/'\n",
    "        cif_files = os.listdir(each_file_path)\n",
    "        os.makedirs(each_file_path + '/good_cif',exist_ok=True)\n",
    "        good_path = each_file_path + '/good_cif/'\n",
    "        os.makedirs(each_file_path + '/bad_cif',exist_ok=True)\n",
    "        bad_path = each_file_path + '/bad_cif/'\n",
    "        for ind, cif_file in enumerate(cif_files):\n",
    "            cif_file_path = \"'{}'\".format(relative_path + cif_file) \n",
    "            name = \"'{}'\".format(relative_path + cif_file[:-4] + '.lmp')\n",
    "            name_simple = relative_path + cif_file[:-4] + '.lmp'\n",
    "            good_name = good_path + cif_file[:-4] + '.lmp'\n",
    "            bad_name = bad_path + cif_file[:-4] + '.lmp'\n",
    "            try:\n",
    "                output = !atomsk $cif_file_path lammps $name        \n",
    "                if len(output) < 20:\n",
    "                    shutil.copy2(name_simple, good_name)\n",
    "                else:\n",
    "                    shutil.copy2(name_simple,bad_name)\n",
    "\n",
    "            except Exception as e:\n",
    "                print(e)\n",
    "                \n",
    "    except:\n",
    "        print(mat_name)\n",
    "\n",
    "\n",
    "\n"
   ]
  }
 ],
 "metadata": {
  "kernelspec": {
   "display_name": "Python 3",
   "language": "python",
   "name": "python3"
  },
  "language_info": {
   "codemirror_mode": {
    "name": "ipython",
    "version": 3
   },
   "file_extension": ".py",
   "mimetype": "text/x-python",
   "name": "python",
   "nbconvert_exporter": "python",
   "pygments_lexer": "ipython3",
   "version": "3.8.3"
  }
 },
 "nbformat": 4,
 "nbformat_minor": 4
}
