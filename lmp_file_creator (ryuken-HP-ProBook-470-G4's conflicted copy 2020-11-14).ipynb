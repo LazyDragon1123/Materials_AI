{
 "cells": [
  {
   "cell_type": "code",
   "execution_count": 3,
   "metadata": {},
   "outputs": [],
   "source": [
    "import pandas as pd\n",
    "import numpy as np\n",
    "import os\n",
    "\n",
    "# file_path_cif = '/Users/dragonlook/Dropbox (MIT)/MI/codes/CIFs/'\n",
    "# file_path_list = '/Users/dragonlook/Dropbox (MIT)/MI/codes/list/thermal_magnon_list.xlsx'\n",
    "file_path_cif = '/home/ryuken/Dropbox (MIT)/MI/codes/CIFs/'\n",
    "file_path_list = '/home/ryuken/Dropbox (MIT)/MI/codes/list/thermal_magnon_list.xlsx'\n",
    "\n",
    "\n",
    "mag_list = pd.read_excel(file_path_list)\n",
    "samples = list(mag_list.Formula.dropna())\n",
    "mat_names = []\n",
    "for compound_name in samples:\n",
    "    mat_names.append(compound_name.strip())"
   ]
  },
  {
   "cell_type": "code",
   "execution_count": null,
   "metadata": {},
   "outputs": [
    {
     "name": "stdout",
     "output_type": "stream",
     "text": [
      "  _________________________________________\n",
      " |      o---o                     O        |\n",
      " |     o---o|   _____________     |        |\n",
      " |     |   |o    A T O M S K     ,0;-o     |\n",
      " |     o---o                   o'   'O     |\n",
      " |   Version Beta-0.10.5                   |\n",
      " |   (C) 2010 Pierre Hirel                 |\n",
      " |_________________________________________|\n",
      " *** Working out of office hours? You should sleep sometimes. :-)\n",
      " <?> This file does not exist: CaF2_2.cif\n",
      "     Please provide the name of an existing file:\n",
      "     (type 'ls' for a list of files of current directory)\n"
     ]
    }
   ],
   "source": [
    "each_file_path = file_path_cif + 'test/'\n",
    "cif_files = os.listdir(each_file_path)\n",
    "for cif_file in cif_files:\n",
    "    !atomsk $cif_file lammps \n",
    "\n"
   ]
  },
  {
   "cell_type": "code",
   "execution_count": 19,
   "metadata": {},
   "outputs": [
    {
     "name": "stdout",
     "output_type": "stream",
     "text": [
      "dyld: Library not loaded: /usr/local/gfortran/lib/libquadmath.0.dylib\r\n",
      "  Referenced from: /usr/local/bin/atomsk\r\n",
      "  Reason: image not found\r\n"
     ]
    }
   ],
   "source": [
    "!atomsk"
   ]
  },
  {
   "cell_type": "code",
   "execution_count": null,
   "metadata": {},
   "outputs": [],
   "source": []
  }
 ],
 "metadata": {
  "kernelspec": {
   "display_name": "Python 3",
   "language": "python",
   "name": "python3"
  },
  "language_info": {
   "codemirror_mode": {
    "name": "ipython",
    "version": 3
   },
   "file_extension": ".py",
   "mimetype": "text/x-python",
   "name": "python",
   "nbconvert_exporter": "python",
   "pygments_lexer": "ipython3",
   "version": "3.8.3"
  }
 },
 "nbformat": 4,
 "nbformat_minor": 4
}
